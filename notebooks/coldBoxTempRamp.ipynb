{
 "cells": [
  {
   "cell_type": "code",
   "execution_count": 1,
   "id": "initial_id",
   "metadata": {
    "collapsed": true,
    "ExecuteTime": {
     "end_time": "2024-12-16T20:42:17.965972Z",
     "start_time": "2024-12-16T20:42:17.442073Z"
    }
   },
   "outputs": [],
   "source": [
    "import matplotlib.pyplot as plt\n",
    "from pathlib import Path"
   ]
  },
  {
   "cell_type": "code",
   "outputs": [],
   "source": [
    "path_plot_dir = Path('../plots')"
   ],
   "metadata": {
    "collapsed": false,
    "ExecuteTime": {
     "end_time": "2024-12-16T20:42:17.971320Z",
     "start_time": "2024-12-16T20:42:17.967475Z"
    }
   },
   "id": "3809865956db1357",
   "execution_count": 2
  },
  {
   "cell_type": "code",
   "execution_count": 3,
   "outputs": [],
   "source": [
    "\n",
    "\n",
    "## run one experiment dict\n",
    "\n",
    "## day:[temp, chamber],\n",
    "## 12->14.5\n",
    "run1 = { \n",
    "    0:[12,'start->table+food'],\n",
    "    1:[12,'table'],\n",
    "    2:[12,'table'],\n",
    "    3:[12,'table->box'],\n",
    "    4:[12,'box->flips->table'],\n",
    "    5:[12,'table'],\n",
    "    6:[12,'table'],\n",
    "    7:[12,'table+clean+food'],\n",
    "    8:[13.2,'table'],\n",
    "    9:[14.5,'table'],\n",
    "    10:[14.5,'table->box'],\n",
    "    11:[14.5,'box->flips->table'],\n",
    "    12:[13.2,'table'],\n",
    "    13:[12,'table'],\n",
    "    14:[12,'end'],\n",
    "}\n",
    "## 12->12\n",
    "run2 = {\n",
    "    0:[12,'start->table+food'],\n",
    "    1:[12,'table'],\n",
    "    2:[12,'table'],\n",
    "    3:[12,'table->box'],\n",
    "    4:[12,'box->flips->table'],\n",
    "    5:[12,'table'],\n",
    "    6:[12,'table'],\n",
    "    7:[12,'table+clean+food'],\n",
    "    8:[12,'table'],\n",
    "    9:[12,'table'],\n",
    "    10:[12,'table->box'],\n",
    "    11:[12,'box->flips->table'],\n",
    "    12:[12,'table'],\n",
    "    13:[12,'end'],\n",
    "}\n",
    "## 12->17\n",
    "run3 = {\n",
    "    0:[12,'start->table+food'],\n",
    "    1:[12,'table'],\n",
    "    2:[12,'table'],\n",
    "    3:[12,'table->box'],\n",
    "    4:[12,'box->flips->table'],\n",
    "    5:[12,'table'],\n",
    "    6:[13.2,'table'],\n",
    "    7:[14.5,'table+clean+food'],\n",
    "    8:[15.7,'table'],\n",
    "    9:[17,'table'],\n",
    "    10:[17,'table->box'],\n",
    "    11:[17,'box->flips->table'],\n",
    "    12:[15.7,'table'],\n",
    "    13:[14.5,'table'],\n",
    "    14:[13.2,'table'],\n",
    "    15:[12,'table'],\n",
    "    16:[12,'end'],\n",
    "}"
   ],
   "metadata": {
    "collapsed": false,
    "ExecuteTime": {
     "end_time": "2024-12-16T20:42:17.979356Z",
     "start_time": "2024-12-16T20:42:17.975727Z"
    }
   },
   "id": "35dbd2ff0f6be34f"
  },
  {
   "cell_type": "code",
   "execution_count": 13,
   "outputs": [
    {
     "name": "stdout",
     "output_type": "stream",
     "text": [
      "[0, 1, 1, 2, 2, 3, 3, 4, 4, 5, 5, 6]\n",
      "[12, 12, 12, 12, 12, 12, 12, 12, 12, 12, 12, 12]\n",
      "[0, 1, 1, 2, 2, 3, 3, 4, 4, 5, 5, 6]\n",
      "[12, 12, 12, 12, 12, 12, 12, 12, 12, 12, 12, 12]\n",
      "[0, 1, 1, 2, 2, 3, 3, 4, 4, 5, 5, 6]\n",
      "[12, 12, 12, 12, 12, 12, 12, 12, 12, 12, 12, 12]\n"
     ]
    },
    {
     "data": {
      "text/plain": "<Figure size 600x200 with 1 Axes>",
      "image/png": "[encoded data removed]"
     },
     "metadata": {},
     "output_type": "display_data"
    }
   ],
   "source": [
    "color_run1 = 'black'\n",
    "color_run2 = 'black'\n",
    "color_run3 = 'black'\n",
    "\n",
    "run1_alpha = .55\n",
    "run2_alpha = .35\n",
    "run3_alpha = .75\n",
    "\n",
    "yticks = [12,14.5,17]\n",
    "xticks = [0,1,2,3,4,5,6,7,8,9,10,11,12,13,14,15,16]\n",
    "\n",
    "fig, ax = plt.subplots(1,1,figsize=(6,2))\n",
    "\n",
    "\n",
    "def plotRun (ax, run, color_run, alpha):\n",
    "    xv = []\n",
    "    yv = []\n",
    "    for key, item in run.items():\n",
    "        x0 = key\n",
    "        x1 = key+1\n",
    "        y0 = item[0]\n",
    "        y1 = item[0]\n",
    "        state = item[1]\n",
    "        if '->' in state and 'flips' in state or 'end' in state:\n",
    "            xshift = .5\n",
    "            if 'end' in state:\n",
    "                xshift = 0\n",
    "            \n",
    "            ax.scatter(x0+xshift, y0, s=10, color=color_run, alpha=alpha)\n",
    "            if 'end' in state:\n",
    "                text = 'end'\n",
    "            else:\n",
    "                text = state.split('->')[1]\n",
    "            ax.text(x0+xshift, y0+.2, text, fontsize=8, rotation=0, color=color_run, alpha=1)\n",
    "        xv.append(x0)\n",
    "        yv.append(y0)\n",
    "        if 'end' not in state:\n",
    "            xv.append(x1)\n",
    "            yv.append(y1)\n",
    "    xp = [x for x in xv[11:]]\n",
    "    #xp.append(xp[0]-.5)\n",
    "    yp = [y for y in yv[11:]]\n",
    "    #yp.append(yp[0])\n",
    "    ax.plot(xp,yp,color=color_run, alpha=alpha)\n",
    "    xp = [x for x in xv[:12]]\n",
    "    #xp.append(xp[-1]+.5)\n",
    "    yp = [y for y in yv[:12]]\n",
    "    #yp.append(yp[-1])\n",
    "    print(xp)\n",
    "    print(yp)\n",
    "    ax.plot(xp, yp, color=color_run, alpha=alpha, linestyle='--')\n",
    "\n",
    "plotRun(ax, run1, color_run1, run1_alpha)\n",
    "plotRun(ax, run2, color_run2, run2_alpha)\n",
    "plotRun(ax, run3, color_run3, run3_alpha)\n",
    "\n",
    "ax.set_yticks(yticks)\n",
    "ax.set_yticklabels(yticks)\n",
    "\n",
    "ax.set_xticks(xticks)\n",
    "ax.set_xticklabels(xticks)\n",
    "\n",
    "ax.spines['top'].set_visible(False)\n",
    "ax.spines['right'].set_visible(False)\n",
    "\n",
    "## define a custom legend in the top left corner\n",
    "legend_lines = [plt.Line2D([0], [0], color=color_run2, lw=2, alpha=run2_alpha),\n",
    "                plt.Line2D([0], [0], color=color_run1, lw=2, alpha=run1_alpha),\n",
    "                plt.Line2D([0], [0], color=color_run3, lw=2, alpha=run3_alpha),\n",
    "                plt.Line2D([0], [0], color=color_run3, lw=2, alpha=run3_alpha, linestyle='--')]\n",
    "legend_labels = [r'$12 \\to 12$ (n=7)', r'$12 \\to 14.5$ (n=6)', r'$12 \\to 17$ (n=8)', 'All treatments']\n",
    "ax.legend(legend_lines, legend_labels, loc='upper left', fontsize=8, title='Temperature (°C)\\ntreatments', title_fontsize=8, frameon=False)\n",
    "\n",
    "ax.set_ylabel('Temperature (°C)')\n",
    "ax.set_xlabel('Day of Experiment')\n",
    "\n",
    "\n",
    "fig.tight_layout()\n",
    "\n",
    "path_fig = path_plot_dir / 'flips_temp_treatments.png'\n",
    "plt.savefig(path_fig, dpi=300)\n",
    "\n",
    "plt.show()\n",
    "plt.close()"
   ],
   "metadata": {
    "collapsed": false,
    "ExecuteTime": {
     "end_time": "2024-12-16T20:45:11.860317Z",
     "start_time": "2024-12-16T20:45:11.554530Z"
    }
   },
   "id": "c5c93c6b64191932"
  },
  {
   "cell_type": "code",
   "execution_count": 5,
   "outputs": [],
   "source": [
    "## visualize flow of individuals through the experiment\n",
    "run1_ids = {\n",
    "    'Week 1, 12°C':'i3,i8,i11,p6,p9,p12',\n",
    "    'Week 2, 14.5°C':'i3,i7,i8,i11,p6,p9,p10,p12',\n",
    "}\n",
    "run1_ids = {key:val.split(',') for key,val in run1_ids.items()}\n",
    "run1_unq_ids = ['i3','i7','i8','i11','p6','p9','p10','p12']\n",
    "\n",
    "run2_ids = {\n",
    "    'Week 1, 12°C':'i2,i4,i6,p1,p2,p8,p11',\n",
    "    'Week 2, 12°C':'i2,i4,i6,p1,p2,p8,p11',\n",
    "}\n",
    "run2_ids = {key:val.split(',') for key,val in run2_ids.items()}\n",
    "run2_unq_ids = ['i2','i4','i6','p1','p2','p8','p11']\n",
    "run3_ids = {\n",
    "    'Week 1, 12°C':'i1,i9,i10,i12,p3,p4,p5,p7',\n",
    "    'Week 2, 17°C':'i1,i9,i10,i12,p3,p4,p5,p7',\n",
    "}\n",
    "run3_ids = {key:val.split(',') for key,val in run3_ids.items()}\n",
    "run3_unq_ids = ['i1','i9','i10','i12','p3','p4','p5','p7']"
   ],
   "metadata": {
    "collapsed": false,
    "ExecuteTime": {
     "end_time": "2024-12-16T20:42:18.422554Z",
     "start_time": "2024-12-16T20:42:18.391807Z"
    }
   },
   "id": "346186fbb11ca55f"
  },
  {
   "cell_type": "code",
   "execution_count": 6,
   "outputs": [
    {
     "data": {
      "text/plain": "<Figure size 500x200 with 1 Axes>",
      "image/png": "[encoded data removed]"
     },
     "metadata": {},
     "output_type": "display_data"
    }
   ],
   "source": [
    "\n",
    "def plotIdFlowRun (run_ids, run_unq_ids, xloc, text_shift=-.015):\n",
    "    \n",
    "    for i, unq_id in enumerate(run_unq_ids):\n",
    "        ## check which weeks it is in\n",
    "        xpos = []\n",
    "        ypos = []\n",
    "        j = 0\n",
    "        for key, val in run_ids.items():\n",
    "            week = key.split(',')[0]\n",
    "            if unq_id in val:\n",
    "                ypos.append(i)\n",
    "                if 'Week 1' in week:\n",
    "                    xpos.append(xloc-0)\n",
    "                if 'Week 2' in week:\n",
    "                    xpos.append(xloc+.25)\n",
    "                \n",
    "                j += .25\n",
    "        ## plot the lines\n",
    "        \n",
    "        if len(xpos) == 2:\n",
    "            ## plot as arrow\n",
    "            ax.arrow(xpos[0], ypos[0], \n",
    "                     xpos[1]-xpos[0]-.025, ypos[1]-ypos[0], \n",
    "                     head_width=.5, head_length=.025, fc='black', ec='black', alpha=.5)\n",
    "        \n",
    "        for x,y in zip(xpos,ypos):\n",
    "            ax.scatter(x,y, color='black', alpha=1, s=20)\n",
    "        ax.text(xpos[0]+text_shift, ypos[0], unq_id, fontsize=8, \n",
    "                rotation=0, color='black', alpha=.75, ha='right', va='center')\n",
    "        \n",
    "\n",
    "fig, ax = plt.subplots(1,1,figsize=(5,2))\n",
    "\n",
    "plotIdFlowRun(run2_ids, run2_unq_ids, 0)\n",
    "plotIdFlowRun(run1_ids, run1_unq_ids, .35)\n",
    "plotIdFlowRun(run3_ids, run3_unq_ids, .7)\n",
    "\n",
    "xticks = [0.125, .35+0.125, .7+0.125]\n",
    "xticklabels = [r'$12 \\to 12$ (n=7)', r'$12 \\to 14.5$ (n=6)', r'$12 \\to 17$ (n=8)']\n",
    "ax.set_xticks(xticks)\n",
    "ax.set_xticklabels(xticklabels)\n",
    "\n",
    "ax.set_yticks([])\n",
    "ax.set_ylim(-1, len(run1_unq_ids))\n",
    "\n",
    "ax.set_ylabel('Juvenile IDs')\n",
    "\n",
    "ax.spines['top'].set_visible(False)\n",
    "ax.spines['right'].set_visible(False)\n",
    "ax.spines['left'].set_visible(False)\n",
    "\n",
    "ax.set_title('Juvenile ID flow through Flips Experiment',loc='center', fontsize=10)\n",
    "\n",
    "path_fig = path_plot_dir / 'flips_id_flow.png'\n",
    "plt.savefig(path_fig, dpi=300)\n",
    "\n",
    "fig.tight_layout()\n",
    "\n",
    "plt.show()\n",
    "plt.close()"
   ],
   "metadata": {
    "collapsed": false,
    "ExecuteTime": {
     "end_time": "2024-12-16T20:42:18.892097Z",
     "start_time": "2024-12-16T20:42:18.406940Z"
    }
   },
   "id": "2264213e92da68cb"
  },
  {
   "cell_type": "code",
   "execution_count": 6,
   "outputs": [],
   "source": [],
   "metadata": {
    "collapsed": false,
    "ExecuteTime": {
     "end_time": "2024-12-16T20:42:18.896305Z",
     "start_time": "2024-12-16T20:42:18.893158Z"
    }
   },
   "id": "eadf841d2a87cece"
  }
 ],
 "metadata": {
  "kernelspec": {
   "display_name": "Python 3",
   "language": "python",
   "name": "python3"
  },
  "language_info": {
   "codemirror_mode": {
    "name": "ipython",
    "version": 2
   },
   "file_extension": ".py",
   "mimetype": "text/x-python",
   "name": "python",
   "nbconvert_exporter": "python",
   "pygments_lexer": "ipython2",
   "version": "2.7.6"
  }
 },
 "nbformat": 4,
 "nbformat_minor": 5
}
